{
 "cells": [
  {
   "cell_type": "code",
   "execution_count": 112,
   "metadata": {},
   "outputs": [],
   "source": [
    "from splinter import Browser\n",
    "from bs4 import BeautifulSoup\n",
    "import pandas as pd\n",
    "import requests\n",
    "import pymongo \n",
    "import datetime\n",
    "import time\n",
    "from pprint import pprint\n"
   ]
  },
  {
   "cell_type": "code",
   "execution_count": 113,
   "metadata": {},
   "outputs": [],
   "source": [
    "executable_path = {'executable_path': 'chromedriver.exe'}\n",
    "browser = Browser('chrome', **executable_path, headless=False)\n"
   ]
  },
  {
   "cell_type": "code",
   "execution_count": 114,
   "metadata": {},
   "outputs": [
    {
     "name": "stdout",
     "output_type": "stream",
     "text": [
      "Things Are Stacking up for NASA's Mars 2020 Spacecraft\n",
      "As the July 2020 launch date inches closer, the next spacecraft headed to the Red Planet is assembled for more testing.\n"
     ]
    }
   ],
   "source": [
    "### NASA Mars News\n",
    "news_url = 'https://mars.nasa.gov/news/'\n",
    "browser.visit(news_url)\n",
    "html = browser.html \n",
    "news_soup = BeautifulSoup(html, 'html.parser')\n",
    "try :\n",
    "    news_title = news_soup.find('ul', class_=\"item_list\").find('li',class_=\"slide\").find('div',class_=\"content_title\").text\n",
    "    print(news_title) \n",
    "    news_p = news_soup.find('ul',class_=\"item_list\").find('li',class_=\"slide\").find('div',class_=\"article_teaser_body\").text\n",
    "    print(news_p)\n",
    "\n",
    "except  AttributeError as error:\n",
    "    print(error)"
   ]
  },
  {
   "cell_type": "code",
   "execution_count": 115,
   "metadata": {},
   "outputs": [
    {
     "name": "stdout",
     "output_type": "stream",
     "text": [
      "{'Mars_news_p': 'As the July 2020 launch date inches closer, the next '\n",
      "                'spacecraft headed to the Red Planet is assembled for more '\n",
      "                'testing.',\n",
      " 'Mars_news_title': \"Things Are Stacking up for NASA's Mars 2020 Spacecraft\"}\n"
     ]
    }
   ],
   "source": [
    "mars_news_dict = dict()\n",
    "mars_news_dict[\"Mars_news_title\"] = news_title\n",
    "mars_news_dict[\"Mars_news_p\"] = news_p\n",
    "pprint(mars_news_dict)"
   ]
  },
  {
   "cell_type": "code",
   "execution_count": 116,
   "metadata": {},
   "outputs": [
    {
     "name": "stdout",
     "output_type": "stream",
     "text": [
      "\n",
      "\t\t\t\t  Jupiter's Great Red Spot\t\t\t\t\n",
      "https://www.jpl.nasa.gov/spaceimages/images/mediumsize/PIA01384_ip.jpg\n"
     ]
    }
   ],
   "source": [
    "### JPL Mars Space Images - Featured Image\n",
    "featured_image_url = 'https://www.jpl.nasa.gov/spaceimages/?search=&category=Mars'\n",
    "browser.visit(featured_image_url)\n",
    "featured_image = browser.find_by_id('full_image')\n",
    "featured_image.click()\n",
    "mars_image_html = browser.html\n",
    "#print(full_img_html)\n",
    "mars_image_soup = BeautifulSoup(mars_image_html, \"html.parser\")\n",
    "featured_image_title = mars_image_soup.find(class_='media_feature_title').text\n",
    "mars_image_href = mars_image_soup.find(class_='carousel_item').a['data-fancybox-href']\n",
    "featured_image_url = \"https://www.jpl.nasa.gov\" + mars_image_href\n",
    "print(featured_image_title)\n",
    "print(featured_image_url)"
   ]
  },
  {
   "cell_type": "code",
   "execution_count": 87,
   "metadata": {},
   "outputs": [
    {
     "name": "stdout",
     "output_type": "stream",
     "text": [
      "{'Mars_featured_image_title': '\\n'\n",
      "                              '\\t\\t\\t\\t  Hustle and Bustle at Center of Milky '\n",
      "                              'Way\\t\\t\\t\\t',\n",
      " 'Mars_featured_image_url': 'https://www.jpl.nasa.gov/spaceimages/images/mediumsize/PIA17009_ip.jpg'}\n"
     ]
    }
   ],
   "source": [
    "mars_feature_dict = dict()\n",
    "mars_feature_dict[\"Mars_featured_image_title\"] = featured_image_title\n",
    "mars_feature_dict[\"Mars_featured_image_url\"] = featured_image_url\n",
    "pprint(mars_feature_dict)"
   ]
  },
  {
   "cell_type": "code",
   "execution_count": 88,
   "metadata": {},
   "outputs": [
    {
     "name": "stdout",
     "output_type": "stream",
     "text": [
      "('InSight sol 138 (2019-04-17) low -97.7ºC (-143.9ºF) high -17.3ºC (0.9ºF)\\n'\n",
      " 'winds from the W at 4.3 m/s (9.5 mph) gusting to 12.6 m/s (28.1 mph)\\n'\n",
      " 'pressure at 7.30 hPapic.twitter.com/ofMyPZM2vS')\n"
     ]
    }
   ],
   "source": [
    "### Mars Weather\n",
    "time.sleep(10)\n",
    "mars_weather_url = 'https://twitter.com/marswxreport?lang=en'\n",
    "browser.visit(mars_weather_url)\n",
    "mars_weather_html = browser.html\n",
    "mars_weather_soup = BeautifulSoup(mars_weather_html, 'html.parser')\n",
    "mars_weather_tweet = mars_weather_soup.find('p', class_=\"TweetTextSize TweetTextSize--normal js-tweet-text tweet-text\").text\n",
    "pprint(mars_weather_tweet)"
   ]
  },
  {
   "cell_type": "code",
   "execution_count": 89,
   "metadata": {},
   "outputs": [
    {
     "name": "stdout",
     "output_type": "stream",
     "text": [
      "{'Mars_weather_tweet': 'InSight sol 138 (2019-04-17) low -97.7ºC (-143.9ºF) '\n",
      "                       'high -17.3ºC (0.9ºF)\\n'\n",
      "                       'winds from the W at 4.3 m/s (9.5 mph) gusting to 12.6 '\n",
      "                       'm/s (28.1 mph)\\n'\n",
      "                       'pressure at 7.30 hPapic.twitter.com/ofMyPZM2vS'}\n"
     ]
    }
   ],
   "source": [
    "mars_weather_dict = dict()\n",
    "mars_weather_dict[\"Mars_weather_tweet\"] = mars_weather_tweet\n",
    "pprint(mars_weather_dict)"
   ]
  },
  {
   "cell_type": "code",
   "execution_count": 90,
   "metadata": {},
   "outputs": [
    {
     "data": {
      "text/html": [
       "<div>\n",
       "<style scoped>\n",
       "    .dataframe tbody tr th:only-of-type {\n",
       "        vertical-align: middle;\n",
       "    }\n",
       "\n",
       "    .dataframe tbody tr th {\n",
       "        vertical-align: top;\n",
       "    }\n",
       "\n",
       "    .dataframe thead th {\n",
       "        text-align: right;\n",
       "    }\n",
       "</style>\n",
       "<table border=\"1\" class=\"dataframe\">\n",
       "  <thead>\n",
       "    <tr style=\"text-align: right;\">\n",
       "      <th></th>\n",
       "      <th>Fact</th>\n",
       "      <th>Value</th>\n",
       "    </tr>\n",
       "  </thead>\n",
       "  <tbody>\n",
       "    <tr>\n",
       "      <th>0</th>\n",
       "      <td>Equatorial Diameter:</td>\n",
       "      <td>6,792 km</td>\n",
       "    </tr>\n",
       "    <tr>\n",
       "      <th>1</th>\n",
       "      <td>Polar Diameter:</td>\n",
       "      <td>6,752 km</td>\n",
       "    </tr>\n",
       "    <tr>\n",
       "      <th>2</th>\n",
       "      <td>Mass:</td>\n",
       "      <td>6.42 x 10^23 kg (10.7% Earth)</td>\n",
       "    </tr>\n",
       "    <tr>\n",
       "      <th>3</th>\n",
       "      <td>Moons:</td>\n",
       "      <td>2 (Phobos &amp; Deimos)</td>\n",
       "    </tr>\n",
       "    <tr>\n",
       "      <th>4</th>\n",
       "      <td>Orbit Distance:</td>\n",
       "      <td>227,943,824 km (1.52 AU)</td>\n",
       "    </tr>\n",
       "    <tr>\n",
       "      <th>5</th>\n",
       "      <td>Orbit Period:</td>\n",
       "      <td>687 days (1.9 years)</td>\n",
       "    </tr>\n",
       "    <tr>\n",
       "      <th>6</th>\n",
       "      <td>Surface Temperature:</td>\n",
       "      <td>-153 to 20 °C</td>\n",
       "    </tr>\n",
       "    <tr>\n",
       "      <th>7</th>\n",
       "      <td>First Record:</td>\n",
       "      <td>2nd millennium BC</td>\n",
       "    </tr>\n",
       "    <tr>\n",
       "      <th>8</th>\n",
       "      <td>Recorded By:</td>\n",
       "      <td>Egyptian astronomers</td>\n",
       "    </tr>\n",
       "  </tbody>\n",
       "</table>\n",
       "</div>"
      ],
      "text/plain": [
       "                   Fact                          Value\n",
       "0  Equatorial Diameter:                       6,792 km\n",
       "1       Polar Diameter:                       6,752 km\n",
       "2                 Mass:  6.42 x 10^23 kg (10.7% Earth)\n",
       "3                Moons:            2 (Phobos & Deimos)\n",
       "4       Orbit Distance:       227,943,824 km (1.52 AU)\n",
       "5         Orbit Period:           687 days (1.9 years)\n",
       "6  Surface Temperature:                  -153 to 20 °C\n",
       "7         First Record:              2nd millennium BC\n",
       "8          Recorded By:           Egyptian astronomers"
      ]
     },
     "execution_count": 90,
     "metadata": {},
     "output_type": "execute_result"
    }
   ],
   "source": [
    "### Mars Facts\n",
    "mars_facts_url = \"http://space-facts.com/mars/\"\n",
    "mars_facts_df = pd.read_html(mars_facts_url)\n",
    "mars_factstable_df = mars_facts_df[0]\n",
    "mars_factstable_df.columns = ['Fact', 'Value']\n",
    "mars_factstable_df\n"
   ]
  },
  {
   "cell_type": "code",
   "execution_count": 110,
   "metadata": {},
   "outputs": [
    {
     "name": "stdout",
     "output_type": "stream",
     "text": [
      "{'Mars_facts_table': '<table border=\"1\" class=\"dataframe mars_facts table\">\\n'\n",
      "                     '  <thead>\\n'\n",
      "                     '    <tr style=\"text-align: right;\">\\n'\n",
      "                     '      <th></th>\\n'\n",
      "                     '      <th>Fact</th>\\n'\n",
      "                     '      <th>Value</th>\\n'\n",
      "                     '    </tr>\\n'\n",
      "                     '  </thead>\\n'\n",
      "                     '  <tbody>\\n'\n",
      "                     '    <tr>\\n'\n",
      "                     '      <th>0</th>\\n'\n",
      "                     '      <td>Equatorial Diameter:</td>\\n'\n",
      "                     '      <td>6,792 km</td>\\n'\n",
      "                     '    </tr>\\n'\n",
      "                     '    <tr>\\n'\n",
      "                     '      <th>1</th>\\n'\n",
      "                     '      <td>Polar Diameter:</td>\\n'\n",
      "                     '      <td>6,752 km</td>\\n'\n",
      "                     '    </tr>\\n'\n",
      "                     '    <tr>\\n'\n",
      "                     '      <th>2</th>\\n'\n",
      "                     '      <td>Mass:</td>\\n'\n",
      "                     '      <td>6.42 x 10^23 kg (10.7% Earth)</td>\\n'\n",
      "                     '    </tr>\\n'\n",
      "                     '    <tr>\\n'\n",
      "                     '      <th>3</th>\\n'\n",
      "                     '      <td>Moons:</td>\\n'\n",
      "                     '      <td>2 (Phobos &amp; Deimos)</td>\\n'\n",
      "                     '    </tr>\\n'\n",
      "                     '    <tr>\\n'\n",
      "                     '      <th>4</th>\\n'\n",
      "                     '      <td>Orbit Distance:</td>\\n'\n",
      "                     '      <td>227,943,824 km (1.52 AU)</td>\\n'\n",
      "                     '    </tr>\\n'\n",
      "                     '    <tr>\\n'\n",
      "                     '      <th>5</th>\\n'\n",
      "                     '      <td>Orbit Period:</td>\\n'\n",
      "                     '      <td>687 days (1.9 years)</td>\\n'\n",
      "                     '    </tr>\\n'\n",
      "                     '    <tr>\\n'\n",
      "                     '      <th>6</th>\\n'\n",
      "                     '      <td>Surface Temperature:</td>\\n'\n",
      "                     '      <td>-153 to 20 °C</td>\\n'\n",
      "                     '    </tr>\\n'\n",
      "                     '    <tr>\\n'\n",
      "                     '      <th>7</th>\\n'\n",
      "                     '      <td>First Record:</td>\\n'\n",
      "                     '      <td>2nd millennium BC</td>\\n'\n",
      "                     '    </tr>\\n'\n",
      "                     '    <tr>\\n'\n",
      "                     '      <th>8</th>\\n'\n",
      "                     '      <td>Recorded By:</td>\\n'\n",
      "                     '      <td>Egyptian astronomers</td>\\n'\n",
      "                     '    </tr>\\n'\n",
      "                     '  </tbody>\\n'\n",
      "                     '</table>'}\n"
     ]
    }
   ],
   "source": [
    "mars_factstable_df.set_index(\"Fact\")\n",
    "mars_factstable_df.to_html(\"templates/mars_facts.html\", index=False)\n",
    "mars_facts_html = mars_factstable_df.to_html(classes=\"mars_facts table\")\n",
    "mars_facts_dict = dict()\n",
    "mars_facts_dict[\"Mars_facts_table\"] = mars_facts_html\n",
    "pprint(mars_facts_dict)"
   ]
  },
  {
   "cell_type": "code",
   "execution_count": 107,
   "metadata": {},
   "outputs": [
    {
     "name": "stdout",
     "output_type": "stream",
     "text": [
      "Cerberus Hemisphere Enhanced\n",
      "http://astropedia.astrogeology.usgs.gov/download/Mars/Viking/cerberus_enhanced.tif/full.jpg\n",
      "Schiaparelli Hemisphere Enhanced\n",
      "http://astropedia.astrogeology.usgs.gov/download/Mars/Viking/schiaparelli_enhanced.tif/full.jpg\n",
      "Syrtis Major Hemisphere Enhanced\n",
      "http://astropedia.astrogeology.usgs.gov/download/Mars/Viking/syrtis_major_enhanced.tif/full.jpg\n",
      "Valles Marineris Hemisphere Enhanced\n",
      "http://astropedia.astrogeology.usgs.gov/download/Mars/Viking/valles_marineris_enhanced.tif/full.jpg\n"
     ]
    },
    {
     "data": {
      "text/plain": [
       "[{'title': 'Cerberus Hemisphere Enhanced',\n",
       "  'img_url': 'http://astropedia.astrogeology.usgs.gov/download/Mars/Viking/cerberus_enhanced.tif/full.jpg'},\n",
       " {'title': 'Schiaparelli Hemisphere Enhanced',\n",
       "  'img_url': 'http://astropedia.astrogeology.usgs.gov/download/Mars/Viking/schiaparelli_enhanced.tif/full.jpg'},\n",
       " {'title': 'Syrtis Major Hemisphere Enhanced',\n",
       "  'img_url': 'http://astropedia.astrogeology.usgs.gov/download/Mars/Viking/syrtis_major_enhanced.tif/full.jpg'},\n",
       " {'title': 'Valles Marineris Hemisphere Enhanced',\n",
       "  'img_url': 'http://astropedia.astrogeology.usgs.gov/download/Mars/Viking/valles_marineris_enhanced.tif/full.jpg'}]"
      ]
     },
     "execution_count": 107,
     "metadata": {},
     "output_type": "execute_result"
    }
   ],
   "source": [
    "### Mars Hemispheres\n",
    "mars_hemispheres_url = \"https://astrogeology.usgs.gov/search/results?q=hemisphere+enhanced&k1=target&v1=Mars\"\n",
    "hemisphere_images_urls = []\n",
    "browser.visit(mars_hemispheres_url)\n",
    "time.sleep(10)\n",
    "mars_hemispheres_html = browser.html\n",
    "mars_hemispheres_soup = BeautifulSoup(mars_hemispheres_html, \"html.parser\")\n",
    "#print(mars_hemispheres_soup)\n",
    "mars_hemispheres_response = mars_hemispheres_soup.find('div', class_=\"collapsible results\")\n",
    "hemispheres_response_items = mars_hemispheres_response.find_all('div',class_='item')\n",
    "for h in hemispheres_response_items:\n",
    "    response_item_title = h.h3.text\n",
    "    print(response_item_title)\n",
    "    response_item_url  = \"https://astrogeology.usgs.gov\" + h.find('a',class_='itemLink product-item')['href']\n",
    "    #print(response_item_url)\n",
    "    browser.visit(response_item_url)\n",
    "    response_item_html = browser.html\n",
    "    response_item_soup = BeautifulSoup(response_item_html, 'html.parser')\n",
    "    hemisphere_image_url = response_item_soup.find('div', class_='downloads').find('li').a['href']\n",
    "    print(hemisphere_image_url)\n",
    "    mars_hemisphere_dict = dict()\n",
    "    mars_hemisphere_dict['title'] = response_item_title\n",
    "    mars_hemisphere_dict['img_url'] = hemisphere_image_url\n",
    "    hemisphere_images_urls.append(mars_hemisphere_dict)\n",
    "hemisphere_images_urls"
   ]
  },
  {
   "cell_type": "code",
   "execution_count": 109,
   "metadata": {
    "scrolled": true
   },
   "outputs": [
    {
     "data": {
      "text/plain": [
       "{'hemisphere_image_urls': [{'title': 'Cerberus Hemisphere Enhanced',\n",
       "   'img_url': 'http://astropedia.astrogeology.usgs.gov/download/Mars/Viking/cerberus_enhanced.tif/full.jpg'},\n",
       "  {'title': 'Schiaparelli Hemisphere Enhanced',\n",
       "   'img_url': 'http://astropedia.astrogeology.usgs.gov/download/Mars/Viking/schiaparelli_enhanced.tif/full.jpg'},\n",
       "  {'title': 'Syrtis Major Hemisphere Enhanced',\n",
       "   'img_url': 'http://astropedia.astrogeology.usgs.gov/download/Mars/Viking/syrtis_major_enhanced.tif/full.jpg'},\n",
       "  {'title': 'Valles Marineris Hemisphere Enhanced',\n",
       "   'img_url': 'http://astropedia.astrogeology.usgs.gov/download/Mars/Viking/valles_marineris_enhanced.tif/full.jpg'}]}"
      ]
     },
     "execution_count": 109,
     "metadata": {},
     "output_type": "execute_result"
    }
   ],
   "source": [
    "mars_hemispheres_dict = dict()\n",
    "mars_hemispheres_dict[\"hemisphere_image_urls\"] = hemisphere_images_urls\n",
    "mars_hemispheres_dict"
   ]
  },
  {
   "cell_type": "code",
   "execution_count": null,
   "metadata": {},
   "outputs": [],
   "source": [
    "\n"
   ]
  },
  {
   "cell_type": "code",
   "execution_count": 13,
   "metadata": {},
   "outputs": [],
   "source": [
    "\n"
   ]
  },
  {
   "cell_type": "code",
   "execution_count": null,
   "metadata": {},
   "outputs": [],
   "source": [
    "\n"
   ]
  },
  {
   "cell_type": "code",
   "execution_count": null,
   "metadata": {},
   "outputs": [],
   "source": []
  },
  {
   "cell_type": "code",
   "execution_count": 16,
   "metadata": {},
   "outputs": [],
   "source": [
    "\n"
   ]
  },
  {
   "cell_type": "code",
   "execution_count": 17,
   "metadata": {},
   "outputs": [],
   "source": [
    "\n"
   ]
  },
  {
   "cell_type": "code",
   "execution_count": null,
   "metadata": {},
   "outputs": [],
   "source": [
    "\n"
   ]
  },
  {
   "cell_type": "code",
   "execution_count": null,
   "metadata": {},
   "outputs": [],
   "source": []
  },
  {
   "cell_type": "code",
   "execution_count": 20,
   "metadata": {},
   "outputs": [],
   "source": []
  },
  {
   "cell_type": "code",
   "execution_count": 21,
   "metadata": {},
   "outputs": [],
   "source": [
    "\n"
   ]
  },
  {
   "cell_type": "code",
   "execution_count": null,
   "metadata": {},
   "outputs": [],
   "source": [
    "\n"
   ]
  },
  {
   "cell_type": "code",
   "execution_count": null,
   "metadata": {},
   "outputs": [],
   "source": []
  },
  {
   "cell_type": "code",
   "execution_count": 24,
   "metadata": {},
   "outputs": [],
   "source": [
    "\n"
   ]
  },
  {
   "cell_type": "code",
   "execution_count": null,
   "metadata": {},
   "outputs": [],
   "source": [
    "\n"
   ]
  },
  {
   "cell_type": "code",
   "execution_count": null,
   "metadata": {},
   "outputs": [],
   "source": []
  },
  {
   "cell_type": "code",
   "execution_count": null,
   "metadata": {},
   "outputs": [],
   "source": []
  },
  {
   "cell_type": "code",
   "execution_count": null,
   "metadata": {},
   "outputs": [],
   "source": []
  }
 ],
 "metadata": {
  "kernelspec": {
   "display_name": "Python [conda env:PythonData2]",
   "language": "python",
   "name": "conda-env-PythonData2-py"
  },
  "language_info": {
   "codemirror_mode": {
    "name": "ipython",
    "version": 3
   },
   "file_extension": ".py",
   "mimetype": "text/x-python",
   "name": "python",
   "nbconvert_exporter": "python",
   "pygments_lexer": "ipython3",
   "version": "3.6.7"
  }
 },
 "nbformat": 4,
 "nbformat_minor": 2
}
